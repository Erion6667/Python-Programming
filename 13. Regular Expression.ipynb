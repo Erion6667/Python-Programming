{
 "cells": [
  {
   "cell_type": "code",
   "execution_count": 2,
   "metadata": {},
   "outputs": [
    {
     "name": "stdout",
     "output_type": "stream",
     "text": [
      "-\n",
      "anaaa valid\n",
      "arumi valid\n",
      "sania valid\n",
      "fikar valid\n",
      "andra valid\n",
      "-\n",
      "-\n",
      "-\n",
      "-\n"
     ]
    }
   ],
   "source": [
    "import re\n",
    "nama = [\"anda\",\"anaaa\",\"arumi\",\"sania\",\"fikar\",\"andra\",\"an__a\",\"Arumi\",\"sania99\",\"dian.a\"]\n",
    "for text in nama : \n",
    "    match = re.search(\"[a-z]{5}$\", text)\n",
    "    if match:\n",
    "        print(text, \"valid\")\n",
    "    else:\n",
    "        print('-')"
   ]
  },
  {
   "cell_type": "code",
   "execution_count": 32,
   "metadata": {},
   "outputs": [
    {
     "name": "stdout",
     "output_type": "stream",
     "text": [
      "11anaaa valid\n",
      "18arum valid\n",
      "30Sania valid\n",
      "09vika valid\n",
      "43Andreas valid\n",
      "-\n",
      "-\n",
      "-\n",
      "-\n",
      "-\n"
     ]
    }
   ],
   "source": [
    "import re\n",
    "nama = [\"11anaaa\",\"18arum\",\"30Sania\",\"09vika\",\"43Andreas\",\"andara11\",\"__andri\",\"Arumi10\",\"9sania\",\"dian.a\"]\n",
    "for text in nama : \n",
    "    match = re.search(\"^\\d\\d[a-zA-Z]\", text)\n",
    "    if match:\n",
    "        print(text, \"valid\")\n",
    "    else:\n",
    "        print('-')"
   ]
  },
  {
   "cell_type": "code",
   "execution_count": 52,
   "metadata": {},
   "outputs": [
    {
     "name": "stdout",
     "output_type": "stream",
     "text": [
      "Deby@pens.ac.id valid\n",
      "amai78@pens.ac.id valid\n",
      "lely_aja@pens.ac.id valid\n",
      "d4@pens.ac.id valid\n",
      "-\n",
      "-\n",
      "-\n",
      "-\n"
     ]
    }
   ],
   "source": [
    "import re\n",
    "nama = [\"Deby@pens.ac.id\",\"amai78@pens.ac.id\",\"lely_aja@pens.ac.id\",\"d4@pens.ac.id\",\"7dian@pens.ac.id\",\"d@pens.ac.id\",\"deby@pens.com\",\"_deby@pens\"]\n",
    "for text in nama : \n",
    "    match = re.search(\"^[a-zA-Z]\\w+@pens.ac.id$\", text)\n",
    "    if match:\n",
    "        print(text, \"valid\")\n",
    "    else:\n",
    "        print('-')"
   ]
  },
  {
   "cell_type": "code",
   "execution_count": null,
   "metadata": {},
   "outputs": [],
   "source": []
  }
 ],
 "metadata": {
  "kernelspec": {
   "display_name": "Python 3",
   "language": "python",
   "name": "python3"
  },
  "language_info": {
   "codemirror_mode": {
    "name": "ipython",
    "version": 3
   },
   "file_extension": ".py",
   "mimetype": "text/x-python",
   "name": "python",
   "nbconvert_exporter": "python",
   "pygments_lexer": "ipython3",
   "version": "3.10.11"
  },
  "orig_nbformat": 4,
  "vscode": {
   "interpreter": {
    "hash": "7bf0edd1501ce2b3472d7be48a7406131df6e9ee3bbb1a68005706b76c6c5420"
   }
  }
 },
 "nbformat": 4,
 "nbformat_minor": 2
}
