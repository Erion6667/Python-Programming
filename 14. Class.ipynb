{
 "cells": [
  {
   "cell_type": "code",
   "execution_count": 15,
   "metadata": {},
   "outputs": [
    {
     "name": "stdout",
     "output_type": "stream",
     "text": [
      "Setelah ditambah jumlah sepatu dalam penyimpanan adalah : 10\n",
      "Setelah dikurangi jumlah sepatu dalam penyimpanan adalah : 5\n",
      "dalam penyimpanan sepatu memiliki harga satuan 400000 dangan jumlah stok 5 \n",
      "\n",
      "Setelah ditambah jumlah buku dalam penyimpanan adalah : 10\n",
      "Setelah dikurangi jumlah buku dalam penyimpanan adalah : -20\n",
      "dalam penyimpanan buku memiliki harga satuan 80000 dangan jumlah stok -20 \n",
      "\n"
     ]
    }
   ],
   "source": [
    "class Restaurant:\n",
    "    def _init_(self, name, cuisine_type, menu):\n",
    "        self.name = name\n",
    "        self.cuisine_type = cuisine_type\n",
    "        self.__menu = menu\n",
    "\n",
    "    def describe_restaurant(self):\n",
    "        print(f\"{self.name} is a {self.cuisine_type} restaurant.\")\n",
    "\n",
    "    def open_restaurant(self):\n",
    "        print(f\"{self.name} is now open!\")\n",
    "\n",
    "    def display_menu(self):\n",
    "        print(f\"Menu at {self.name}:\")\n",
    "        for item, price in self.__menu.items():\n",
    "            print(f\"{item} - ${price}\")\n",
    "        print()\n",
    "\n",
    "    def add_menu(self):\n",
    "        print(\"Add menu\")\n",
    "        add_item = input(\"Enter the menu:\")\n",
    "        if add_item in self.__menu:\n",
    "            print(f\"{add_item} is already in the menu.\")\n",
    "        else:\n",
    "            self.__menu[add_item] = price\n",
    "            print(f\"{add_item} has been added to the menu.\")\n",
    "        print(self.display_menu())\n",
    "        print()\n",
    "\n",
    "    def remove_menu(self, item):\n",
    "        del_item = input(\"Delete the menu:\")\n",
    "        if del_item in self.__menu:\n",
    "            del self.__menu[del_item]\n",
    "        else:\n",
    "            print(f\"{del_item} is not in the menu.\")\n",
    "        print(self.display_menu())\n",
    "        print()\n",
    "\n",
    "menu1 = {\"Sate Ayam\": 5,\n",
    "         \"Nasi Goreng\": 7,\n",
    "         \"Gado-Gado\": 6}\n",
    "menu2 = {\"Sushi Roll\": 8,\n",
    "         \"Ramen\": 10,\n",
    "         \"Tempura\": 12}\n",
    "\n",
    "restaurant1 = Restaurant(\"Sate Khas Senayan\", \"Indonesian\", menu1)\n",
    "restaurant2 = Restaurant(\"Sushi Tei\", \"Japanese\", menu2)\n",
    "\n",
    "restaurant1.display_menu()\n",
    "restaurant2.display_menu()\n",
    "\n",
    "restaurant1.add_menu()\n",
    "restaurant1.add_menu()"
   ]
  },
  {
   "cell_type": "code",
   "execution_count": null,
   "metadata": {},
   "outputs": [],
   "source": []
  }
 ],
 "metadata": {
  "kernelspec": {
   "display_name": "Python 3",
   "language": "python",
   "name": "python3"
  },
  "language_info": {
   "codemirror_mode": {
    "name": "ipython",
    "version": 3
   },
   "file_extension": ".py",
   "mimetype": "text/x-python",
   "name": "python",
   "nbconvert_exporter": "python",
   "pygments_lexer": "ipython3",
   "version": "3.10.11"
  },
  "orig_nbformat": 4
 },
 "nbformat": 4,
 "nbformat_minor": 2
}
