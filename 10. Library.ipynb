{
  "cells": [
    {
      "cell_type": "code",
      "execution_count": null,
      "metadata": {
        "colab": {
          "base_uri": "https://localhost:8080/"
        },
        "id": "zuvLDz5r7HDz",
        "outputId": "ea8cef84-c38c-47b9-9b00-f34b85ed2940"
      },
      "outputs": [
        {
          "name": "stdout",
          "output_type": "stream",
          "text": [
            "Mausukkan angka tahun: 2004\n",
            "Mausukkan angka bulan: 12\n",
            "Mausukkan angka hari: 7\n",
            "Tanggal yang dimasukkan adalah: 2004-12-07\n"
          ]
        }
      ],
      "source": [
        "from datetime import date\n",
        "year = int(input('Mausukkan angka tahun: '))\n",
        "month = int(input('Mausukkan angka bulan: '))\n",
        "day = int(input('Mausukkan angka hari: '))\n",
        "tanggal = date(year, month, day)\n",
        "print('Tanggal yang dimasukkan adalah:', tanggal)"
      ]
    },
    {
      "cell_type": "code",
      "execution_count": null,
      "metadata": {
        "colab": {
          "base_uri": "https://localhost:8080/"
        },
        "id": "gbGMywXYX6eo",
        "outputId": "5752625f-f59e-42aa-d233-309b7e1644f9"
      },
      "outputs": [
        {
          "name": "stdout",
          "output_type": "stream",
          "text": [
            "0123456789abcdefABCDEF\n"
          ]
        }
      ],
      "source": [
        "# dengan as\n",
        "import string as s\n",
        "numbers = s.hexdigits\n",
        "print(numbers)"
      ]
    },
    {
      "cell_type": "code",
      "execution_count": null,
      "metadata": {
        "colab": {
          "base_uri": "https://localhost:8080/"
        },
        "id": "ivLlM1ZNbMNi",
        "outputId": "e55c7279-ecae-4eb3-9648-d1fa9f1109e4"
      },
      "outputs": [
        {
          "name": "stdout",
          "output_type": "stream",
          "text": [
            "0123456789abcdefABCDEF\n"
          ]
        }
      ],
      "source": [
        "# tanpa as\n",
        "import string\n",
        "numbers = string.hexdigits\n",
        "print(numbers)"
      ]
    },
    {
      "cell_type": "code",
      "execution_count": null,
      "metadata": {
        "colab": {
          "base_uri": "https://localhost:8080/"
        },
        "id": "cJSrjXX4FMKV",
        "outputId": "66169ab4-4dc2-4ccf-a75c-d89ec3aaaa8f"
      },
      "outputs": [
        {
          "name": "stdout",
          "output_type": "stream",
          "text": [
            "1\n"
          ]
        }
      ],
      "source": [
        "from datetime import MINYEAR\n",
        "print(MINYEAR)"
      ]
    },
    {
      "cell_type": "code",
      "execution_count": null,
      "metadata": {
        "colab": {
          "base_uri": "https://localhost:8080/"
        },
        "id": "oNSe7Dk6E4z2",
        "outputId": "39ab9b2e-132f-4d9f-e40a-484f17a4f54f"
      },
      "outputs": [
        {
          "name": "stdout",
          "output_type": "stream",
          "text": [
            "9999\n"
          ]
        }
      ],
      "source": [
        "import datetime as dt\n",
        "print(dt.MAXYEAR)"
      ]
    },
    {
      "cell_type": "code",
      "execution_count": null,
      "metadata": {
        "colab": {
          "base_uri": "https://localhost:8080/"
        },
        "id": "bZLoir3CGNuj",
        "outputId": "e65ed95f-b32b-422e-df1a-f732a60b0a82"
      },
      "outputs": [
        {
          "name": "stdout",
          "output_type": "stream",
          "text": [
            "2002-12-30\n"
          ]
        }
      ],
      "source": [
        "from datetime import date\n",
        "print(date(2002,12,30))"
      ]
    },
    {
      "cell_type": "code",
      "execution_count": null,
      "metadata": {
        "colab": {
          "base_uri": "https://localhost:8080/"
        },
        "id": "H6wcuzXjnQQp",
        "outputId": "96462b1b-d18f-467c-cd66-7a4f57a6d151"
      },
      "outputs": [
        {
          "name": "stdout",
          "output_type": "stream",
          "text": [
            "Mausukkan angka tahun: 2004\n",
            "Mausukkan angka bulan: 12\n",
            "Mausukkan angka hari: 7\n",
            "Tanggal yang dimasukkan adalah: 2004-12-07\n",
            "Hari yang anda cari adalah: Selasa\n"
          ]
        }
      ],
      "source": [
        "import datetime \n",
        "year = int(input('Mausukkan angka tahun: '))\n",
        "month = int(input('Mausukkan angka bulan: '))\n",
        "day = int(input('Mausukkan angka hari: '))\n",
        "hari = ('index ke-0', 'Senin', 'Selasa', 'Rabu', 'Kamis', \"Jum'at\", 'Sabtu', 'Minggu')\n",
        "\n",
        "tanggal = datetime.date(year, month, day)\n",
        "print('Tanggal yang dimasukkan adalah:', tanggal)\n",
        "\n",
        "hari_cari = tanggal.isoweekday()\n",
        "\n",
        "print('Hari yang anda cari adalah:', format(hari[hari_cari]))"
      ]
    },
    {
      "cell_type": "code",
      "execution_count": null,
      "metadata": {
        "colab": {
          "base_uri": "https://localhost:8080/",
          "height": 131
        },
        "id": "WALIut6AGyrC",
        "outputId": "19431b51-ceae-4c16-fa02-9bbe4ed0fd5d"
      },
      "outputs": [
        {
          "ename": "SyntaxError",
          "evalue": "ignored",
          "output_type": "error",
          "traceback": [
            "\u001b[0;36m  File \u001b[0;32m\"<ipython-input-17-b38d1c141c4d>\"\u001b[0;36m, line \u001b[0;32m6\u001b[0m\n\u001b[0;31m    break\u001b[0m\n\u001b[0m    ^\u001b[0m\n\u001b[0;31mSyntaxError\u001b[0m\u001b[0;31m:\u001b[0m 'break' outside loop\n"
          ]
        }
      ],
      "source": [
        "#Untuk melanjutkan looping atau tidak\n",
        "def akhir(pilih):\n",
        "  pilih = input('Apakah program dilanjutkan atau tidak (y/t):')\n",
        "  if pilih.lower() == 't':\n",
        "    print('------------------exited------------------')\n",
        "    break"
      ]
    },
    {
      "cell_type": "code",
      "execution_count": null,
      "metadata": {
        "id": "wL2W0wyYJja6"
      },
      "outputs": [],
      "source": [
        "#Membaca dataset csv\n",
        "def read_csv(data):\n",
        "  import pandas as pd\n",
        "  df = pd.read_csv(data)\n",
        "  df.head()"
      ]
    },
    {
      "cell_type": "code",
      "execution_count": null,
      "metadata": {
        "id": "Gms93ZT_IAfk"
      },
      "outputs": [],
      "source": [
        "#Membaca dataset excel\n",
        "def read_elsx(data):\n",
        "  import pandas as pd\n",
        "  df = pd.read_elsx(data)\n",
        "  df.head()"
      ]
    },
    {
      "cell_type": "code",
      "execution_count": null,
      "metadata": {
        "id": "rpqhRE13MHvF"
      },
      "outputs": [],
      "source": [
        "#Membaca dataset json\n",
        "def read_json(data):\n",
        "  import pandas as pd\n",
        "  df = pd.read_json(data)\n",
        "  df.head()"
      ]
    },
    {
      "cell_type": "code",
      "execution_count": null,
      "metadata": {
        "colab": {
          "base_uri": "https://localhost:8080/"
        },
        "id": "c3TJ_ogRNJj3",
        "outputId": "fc3b6097-67bc-46ca-8a02-748fb85202c1"
      },
      "outputs": [
        {
          "name": "stdout",
          "output_type": "stream",
          "text": [
            "Apa yang ingin anda tulis? zv dk\n",
            "Apakah menulis lagi atau tidak (y/t):y\n",
            "Apa yang ingin anda tulis? cd sjv\n",
            "Apakah menulis lagi atau tidak (y/t):y\n",
            "Apa yang ingin anda tulis? dkbjvf\n",
            "Apakah menulis lagi atau tidak (y/t):y\n",
            "Apa yang ingin anda tulis? sbch\n",
            "Apakah menulis lagi atau tidak (y/t):t\n",
            "Menu menulis sudah berakhir\n"
          ]
        }
      ],
      "source": [
        "#Menulis teks baru\n",
        "def menulis_teks_baru(nametxt):\n",
        "  import os\n",
        "  while True:\n",
        "    listfile = os.listdir()\n",
        "    filename = nametxt.lower()\n",
        "    if filename +'.txt' in listfile:\n",
        "      print(\"File tersebut sudah ada, silahkan ganti dengan nama baru!\")\n",
        "      break\n",
        "    else:\n",
        "      tl = open(filename + '.txt', 'x')\n",
        "      tl.writelines(input('Apa yang ingin anda tulis? ')+'\\n')\n",
        "      tl.close()\n",
        "      while True:\n",
        "        pilih = input('Apakah menulis lagi atau tidak (y/t):')\n",
        "        if pilih.lower() == 'y':\n",
        "          tl2 = open(filename + '.txt', 'a')\n",
        "          tl2.writelines(input('Apa yang ingin anda tulis? ')+'\\n')\n",
        "          tl2.close()\n",
        "        else :\n",
        "          print('Menu menulis sudah berakhir')\n",
        "          break\n",
        "      break\n",
        "menulis_teks_baru('kzz bh')"
      ]
    },
    {
      "cell_type": "code",
      "execution_count": null,
      "metadata": {
        "id": "JSvajCQseyIJ"
      },
      "outputs": [],
      "source": [
        "#Melanjutkan menulis teks\n",
        "def melanjutkan_menulis_teks(nametxt):\n",
        "  import os       \n",
        "  listfile = os.listdir()\n",
        "  filename = nametxt.lower()\n",
        "  if filename + '.txt' in listfile:\n",
        "    lj = open(filename + '.txt', 'a')\n",
        "    lj.writelines(input('Apa yang ingin anda tambahkan? ')+'\\n')\n",
        "    lj.close()\n",
        "    while True:\n",
        "      pilih = input('Apakah menulis lagi atau tidak (y/t):')\n",
        "      if pilih.lower() == 'y':\n",
        "        tl2 = open(filename + '.txt', 'a')\n",
        "        tl2.writelines(input('Apa yang ingin anda tulis? ')+'\\n')\n",
        "        tl2.close()\n",
        "      else :\n",
        "        print('Menu menulis sudah berakhir')\n",
        "        break\n",
        "  else:\n",
        "    print(\"Nama file yang ingin ada edit tidak tersedia, pastikan nama file sudah benar!\")"
      ]
    },
    {
      "cell_type": "code",
      "execution_count": null,
      "metadata": {
        "id": "q-eB4DPthGLi"
      },
      "outputs": [],
      "source": [
        "#Membaca teks\n",
        "def membaca_teks(nametxt):\n",
        "  import os\n",
        "  listfile = os.listdir()\n",
        "  filename = nametext.lower()\n",
        "  if filename + '.txt' in listfile:\n",
        "    bc = open(filename + '.txt', 'r')\n",
        "    print(bc.read())\n",
        "    bc.close()\n",
        "  else:\n",
        "    print(\"File yang ingin anda baca tidak tersedia, pastikan nama file sudah benar!\")"
      ]
    },
    {
      "cell_type": "code",
      "execution_count": null,
      "metadata": {
        "colab": {
          "base_uri": "https://localhost:8080/"
        },
        "id": "W_ZX9v4HdNz9",
        "outputId": "9db6abb4-52c6-4737-e3ff-4ea8ef2d1e97"
      },
      "outputs": [
        {
          "name": "stdout",
          "output_type": "stream",
          "text": [
            "File tersebut sudah ada, silahkan ganti dengan nama baru!\n"
          ]
        }
      ],
      "source": [
        "import mybox\n",
        "mybox.menulis_teks_baru('file1')"
      ]
    },
    {
      "cell_type": "code",
      "execution_count": null,
      "metadata": {
        "colab": {
          "base_uri": "https://localhost:8080/"
        },
        "id": "CFllHPfCnvai",
        "outputId": "0a57a53d-a477-4cb7-ae6d-eb8b4badc8da"
      },
      "outputs": [
        {
          "name": "stdout",
          "output_type": "stream",
          "text": [
            "Apa yang ingin anda tambahkan? bersama\n",
            "Apakah menulis lagi atau tidak (y/t):y\n",
            "Apa yang ingin anda tulis? belajar\n",
            "Apakah menulis lagi atau tidak (y/t):t\n",
            "Menu menulis sudah berakhir\n"
          ]
        }
      ],
      "source": [
        "import mybox\n",
        "mybox.melanjutkan_menulis_teks('file1')"
      ]
    },
    {
      "cell_type": "code",
      "execution_count": null,
      "metadata": {
        "colab": {
          "base_uri": "https://localhost:8080/",
          "height": 314
        },
        "id": "VnD4PaNuoYOV",
        "outputId": "8cbbc731-30fd-40fb-b53f-fe538909583d"
      },
      "outputs": [
        {
          "ename": "NameError",
          "evalue": "ignored",
          "output_type": "error",
          "traceback": [
            "\u001b[0;31m---------------------------------------------------------------------------\u001b[0m",
            "\u001b[0;31mNameError\u001b[0m                                 Traceback (most recent call last)",
            "\u001b[0;32m<ipython-input-22-5e90018d9a4b>\u001b[0m in \u001b[0;36m<module>\u001b[0;34m\u001b[0m\n\u001b[1;32m      1\u001b[0m \u001b[0;32mimport\u001b[0m \u001b[0mmybox\u001b[0m\u001b[0;34m\u001b[0m\u001b[0;34m\u001b[0m\u001b[0m\n\u001b[0;32m----> 2\u001b[0;31m \u001b[0mmybox\u001b[0m\u001b[0;34m.\u001b[0m\u001b[0mmembaca_teks\u001b[0m\u001b[0;34m(\u001b[0m\u001b[0;34m'file1'\u001b[0m\u001b[0;34m)\u001b[0m\u001b[0;34m\u001b[0m\u001b[0;34m\u001b[0m\u001b[0m\n\u001b[0m",
            "\u001b[0;32m/usr/lib/python3.8/mybox.py\u001b[0m in \u001b[0;36mmembaca_teks\u001b[0;34m(nametxt)\u001b[0m\n\u001b[1;32m     82\u001b[0m \u001b[0;32mdef\u001b[0m \u001b[0mmembaca_teks\u001b[0m\u001b[0;34m(\u001b[0m\u001b[0mnametxt\u001b[0m\u001b[0;34m)\u001b[0m\u001b[0;34m:\u001b[0m\u001b[0;34m\u001b[0m\u001b[0;34m\u001b[0m\u001b[0m\n\u001b[1;32m     83\u001b[0m   \u001b[0;32mimport\u001b[0m \u001b[0mos\u001b[0m\u001b[0;34m\u001b[0m\u001b[0;34m\u001b[0m\u001b[0m\n\u001b[0;32m---> 84\u001b[0;31m   \u001b[0mlistfile\u001b[0m \u001b[0;34m=\u001b[0m \u001b[0mos\u001b[0m\u001b[0;34m.\u001b[0m\u001b[0mlistdir\u001b[0m\u001b[0;34m(\u001b[0m\u001b[0;34m)\u001b[0m\u001b[0;34m\u001b[0m\u001b[0;34m\u001b[0m\u001b[0m\n\u001b[0m\u001b[1;32m     85\u001b[0m   \u001b[0mfilename\u001b[0m \u001b[0;34m=\u001b[0m \u001b[0mnametxt\u001b[0m\u001b[0;34m.\u001b[0m\u001b[0mlower\u001b[0m\u001b[0;34m(\u001b[0m\u001b[0;34m)\u001b[0m\u001b[0;34m\u001b[0m\u001b[0;34m\u001b[0m\u001b[0m\n\u001b[1;32m     86\u001b[0m   \u001b[0;32mif\u001b[0m \u001b[0mfilename\u001b[0m \u001b[0;34m+\u001b[0m \u001b[0;34m'.txt'\u001b[0m \u001b[0;32min\u001b[0m \u001b[0mlistfile\u001b[0m\u001b[0;34m:\u001b[0m\u001b[0;34m\u001b[0m\u001b[0;34m\u001b[0m\u001b[0m\n",
            "\u001b[0;31mNameError\u001b[0m: name 'nametext' is not defined"
          ]
        }
      ],
      "source": [
        "import mybox\n",
        "mybox.membaca_teks('file1')"
      ]
    },
    {
      "cell_type": "code",
      "execution_count": null,
      "metadata": {
        "colab": {
          "base_uri": "https://localhost:8080/"
        },
        "id": "NMZtDYCXxgH1",
        "outputId": "ea7161ee-9884-49d7-fcf2-a4e493932d49"
      },
      "outputs": [
        {
          "name": "stdout",
          "output_type": "stream",
          "text": [
            "aku\n",
            "saya\n",
            "dia\n",
            "mereka\n",
            "bersama\n",
            "belajar\n",
            "\n"
          ]
        }
      ],
      "source": [
        "def membaca_teks(nametxt):\n",
        "  import os\n",
        "  listfile = os.listdir()\n",
        "  filename = nametxt.lower()\n",
        "  if filename + '.txt' in listfile:\n",
        "    bc = open(filename + '.txt', 'r')\n",
        "    print(bc.read())\n",
        "    bc.close()\n",
        "  else:\n",
        "    print(\"File yang ingin anda baca tidak tersedia, pastikan nama  file sudah benar!\")\n",
        "\n",
        "membaca_teks('file1')"
      ]
    },
    {
      "cell_type": "code",
      "execution_count": null,
      "metadata": {
        "id": "9fcSzPgP0oyt"
      },
      "outputs": [],
      "source": [
        "#Membaca dataset csv\n",
        "def baca_csv(data):\n",
        "  import pandas as pd\n",
        "  df = pd.read_csv(data)\n",
        "  df.head()\n",
        "\n",
        "baca_csv(\"/content/Hitters.csv\")"
      ]
    },
    {
      "cell_type": "code",
      "execution_count": null,
      "metadata": {
        "colab": {
          "background_save": true
        },
        "id": "uv6mvAeg1XZ7"
      },
      "outputs": [],
      "source": [
        "import mybox\n",
        "mybox.baca_csv(\"/content/Hitters.csv\")"
      ]
    }
  ],
  "metadata": {
    "colab": {
      "provenance": []
    },
    "kernelspec": {
      "display_name": "Python 3",
      "name": "python3"
    },
    "language_info": {
      "name": "python"
    }
  },
  "nbformat": 4,
  "nbformat_minor": 0
}