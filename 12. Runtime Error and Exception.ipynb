{
 "cells": [
  {
   "cell_type": "code",
   "execution_count": 6,
   "metadata": {},
   "outputs": [
    {
     "name": "stdout",
     "output_type": "stream",
     "text": [
      "bilangan yang dimasukkan diluar rentang -10 sampai 10\n",
      "bilangan yang dimasukkan 2\n"
     ]
    }
   ],
   "source": [
    "while True:\n",
    "    try:\n",
    "        bilangan = int(input(\"Masukkan bilangan bulat: \"))\n",
    "        if bilangan in range (-10,11):\n",
    "            break\n",
    "        else : \n",
    "            print('bilangan yang dimasukkan diluar rentang -10 sampai 10')\n",
    "    except ValueError: \n",
    "        print('bilangan yang dimasukkan harus bilangan bulat')\n",
    "print('bilangan yang dimasukkan', bilangan)"
   ]
  },
  {
   "cell_type": "code",
   "execution_count": null,
   "metadata": {},
   "outputs": [],
   "source": []
  }
 ],
 "metadata": {
  "kernelspec": {
   "display_name": "Python 3",
   "language": "python",
   "name": "python3"
  },
  "language_info": {
   "codemirror_mode": {
    "name": "ipython",
    "version": 3
   },
   "file_extension": ".py",
   "mimetype": "text/x-python",
   "name": "python",
   "nbconvert_exporter": "python",
   "pygments_lexer": "ipython3",
   "version": "3.10.10"
  },
  "orig_nbformat": 4
 },
 "nbformat": 4,
 "nbformat_minor": 2
}
