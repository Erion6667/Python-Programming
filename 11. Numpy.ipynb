{
  "cells": [
    {
      "cell_type": "code",
      "execution_count": null,
      "metadata": {
        "colab": {
          "base_uri": "https://localhost:8080/"
        },
        "id": "uTTW08FRY4C4",
        "outputId": "7ac59203-87e3-457b-b49b-7c850b69421b"
      },
      "outputs": [
        {
          "name": "stdout",
          "output_type": "stream",
          "text": [
            "Masukkan Banyaknya Baris Matriks: 4\n",
            "Masukkan Banyaknya Kolom Matriks: 2\n",
            "[[0.61748575 0.22679209]\n",
            " [0.15900906 0.76264754]\n",
            " [0.33856694 0.82343024]\n",
            " [0.63227452 0.12134572]]\n",
            "Masukkan Banyaknya Baris untuk Reshape Matriks: 2\n",
            "Masukkan Banyaknya Kolom untuk Reshape Matriks: 4\n",
            "[[0.61748575 0.22679209 0.15900906 0.76264754]\n",
            " [0.33856694 0.82343024 0.63227452 0.12134572]]\n"
          ]
        }
      ],
      "source": [
        "# 1\n",
        "import numpy as np\n",
        "B = int(input(\"Masukkan Banyaknya Baris Matriks: \"))\n",
        "K = int(input(\"Masukkan Banyaknya Kolom Matriks: \"))\n",
        "ukuran = K*B\n",
        "matx = np.random.random(size=(B, K))\n",
        "print(matx)\n",
        "while True:\n",
        "  B2 = int(input(\"Masukkan Banyaknya Baris untuk Reshape Matriks: \"))\n",
        "  K2 = int(input(\"Masukkan Banyaknya Kolom untuk Reshape Matriks: \"))\n",
        "  if B2*K2 != ukuran:\n",
        "    print(\"Tidak bisa di reshape karena beda ukuran\")\n",
        "    continue \n",
        "  else:\n",
        "    print(matx.reshape(B2, K2))\n",
        "    break"
      ]
    },
    {
      "cell_type": "code",
      "execution_count": null,
      "metadata": {
        "colab": {
          "base_uri": "https://localhost:8080/"
        },
        "id": "Ibc5bHEiBGpg",
        "outputId": "4c74755f-67eb-4ba5-d7cb-ddd9eeca74bb"
      },
      "outputs": [
        {
          "name": "stdout",
          "output_type": "stream",
          "text": [
            "Masukkan Banyaknya Baris Matriks: 4\n",
            "Masukkan Banyaknya Kolom Matriks: 5\n",
            "Masukkan Batas Atas Matriks: 5\n",
            "Masukkan Batas Bawah Matriks: 5\n",
            "Batas atas harus lebih banyak dari batas bawah\n",
            "Masukkan Batas Atas Matriks: 5\n",
            "Masukkan Batas Bawah Matriks: 7\n",
            "Batas atas harus lebih banyak dari batas bawah\n",
            "Masukkan Batas Atas Matriks: 7\n",
            "Masukkan Batas Bawah Matriks: 4\n",
            "[[4.76727368 6.0876919  5.37588936 5.6055042  6.16431478]\n",
            " [6.61934938 6.12916438 4.17804877 5.81116479 4.68466665]\n",
            " [5.33972242 5.56872372 5.6419777  4.05067608 5.07602769]\n",
            " [6.49660779 4.10374542 6.69542433 5.14818903 5.38874052]]\n",
            "Masukkan Banyaknya Baris untuk Reshape Matriks: 5\n",
            "Masukkan Banyaknya Kolom untuk Reshape Matriks: 4\n",
            "[[4.76727368 6.0876919  5.37588936 5.6055042 ]\n",
            " [6.16431478 6.61934938 6.12916438 4.17804877]\n",
            " [5.81116479 4.68466665 5.33972242 5.56872372]\n",
            " [5.6419777  4.05067608 5.07602769 6.49660779]\n",
            " [4.10374542 6.69542433 5.14818903 5.38874052]]\n"
          ]
        }
      ],
      "source": [
        "# 2\n",
        "import numpy as np\n",
        "B = int(input(\"Masukkan Banyaknya Baris Matriks: \"))\n",
        "K = int(input(\"Masukkan Banyaknya Kolom Matriks: \"))\n",
        "while True:\n",
        "  atas = float(input(\"Masukkan Batas Atas Matriks: \"))\n",
        "  bawah = float(input(\"Masukkan Batas Bawah Matriks: \"))\n",
        "  if atas <= bawah :\n",
        "    print(\"Batas atas harus lebih banyak dari batas bawah\")\n",
        "    continue\n",
        "  else:\n",
        "    break\n",
        "ukuran = K*B\n",
        "matx = np.random.uniform(low=bawah, high=atas, size=(B, K))\n",
        "print(matx)\n",
        "while True:\n",
        "  B2 = int(input(\"Masukkan Banyaknya Baris untuk Reshape Matriks: \"))\n",
        "  K2 = int(input(\"Masukkan Banyaknya Kolom untuk Reshape Matriks: \"))\n",
        "  if B2*K2 != ukuran:\n",
        "    print(\"Tidak bisa di reshape karena beda ukuran\")\n",
        "    continue \n",
        "  else:\n",
        "    print(matx.reshape(B2, K2))\n",
        "    break"
      ]
    },
    {
      "cell_type": "code",
      "execution_count": null,
      "metadata": {
        "colab": {
          "base_uri": "https://localhost:8080/",
          "height": 744
        },
        "id": "bJJJsLQsjqMF",
        "outputId": "8c787ab3-ff85-4c66-dfe2-9ee82196fa90"
      },
      "outputs": [
        {
          "name": "stdout",
          "output_type": "stream",
          "text": [
            "1. Buat random Matriks\n",
            "2. Ubah shape Matriks\n",
            "3. Ubah ukuran Matriks\n",
            "pilih 1/2/3: 1\n",
            "Masukkan Banyaknya Baris Matriks: 3\n",
            "Masukkan Banyaknya Kolom Matriks: 2\n",
            "Masukkan Batas Atas Matriks: 0\n",
            "Masukkan Batas Bawah Matriks: 10\n",
            "Batas atas harus lebih banyak dari batas bawah\n",
            "Masukkan Batas Atas Matriks: 10\n",
            "Masukkan Batas Bawah Matriks: 2\n",
            "[[8.25073371 2.83491923]\n",
            " [6.3933133  6.44254626]\n",
            " [7.62880493 5.45450559]]\n",
            "pilih 1/2/3: 3\n",
            "Masukkan Banyaknya Baris Matriks: 4\n",
            "Masukkan Banyaknya Kolom Matriks: 2\n",
            "[[8.25073371 2.83491923]\n",
            " [6.3933133  6.44254626]\n",
            " [7.62880493 5.45450559]\n",
            " [8.25073371 2.83491923]]\n"
          ]
        },
        {
          "ename": "KeyboardInterrupt",
          "evalue": "ignored",
          "output_type": "error",
          "traceback": [
            "\u001b[0;31m---------------------------------------------------------------------------\u001b[0m",
            "\u001b[0;31mKeyboardInterrupt\u001b[0m                         Traceback (most recent call last)",
            "\u001b[0;32m<ipython-input-6-cc96e542678e>\u001b[0m in \u001b[0;36m<module>\u001b[0;34m\u001b[0m\n\u001b[1;32m      5\u001b[0m \u001b[0mprint\u001b[0m\u001b[0;34m(\u001b[0m\u001b[0;34m\"3. Ubah ukuran Matriks\"\u001b[0m\u001b[0;34m)\u001b[0m\u001b[0;34m\u001b[0m\u001b[0;34m\u001b[0m\u001b[0m\n\u001b[1;32m      6\u001b[0m \u001b[0;32mwhile\u001b[0m \u001b[0;32mTrue\u001b[0m\u001b[0;34m:\u001b[0m\u001b[0;34m\u001b[0m\u001b[0;34m\u001b[0m\u001b[0m\n\u001b[0;32m----> 7\u001b[0;31m   \u001b[0mpilih\u001b[0m \u001b[0;34m=\u001b[0m \u001b[0mint\u001b[0m\u001b[0;34m(\u001b[0m\u001b[0minput\u001b[0m\u001b[0;34m(\u001b[0m\u001b[0;34m\"pilih 1/2/3: \"\u001b[0m\u001b[0;34m)\u001b[0m\u001b[0;34m)\u001b[0m\u001b[0;34m\u001b[0m\u001b[0;34m\u001b[0m\u001b[0m\n\u001b[0m\u001b[1;32m      8\u001b[0m   \u001b[0;32mif\u001b[0m \u001b[0mpilih\u001b[0m \u001b[0;34m==\u001b[0m \u001b[0;36m1\u001b[0m \u001b[0;34m:\u001b[0m\u001b[0;34m\u001b[0m\u001b[0;34m\u001b[0m\u001b[0m\n\u001b[1;32m      9\u001b[0m     \u001b[0mB\u001b[0m \u001b[0;34m=\u001b[0m \u001b[0mint\u001b[0m\u001b[0;34m(\u001b[0m\u001b[0minput\u001b[0m\u001b[0;34m(\u001b[0m\u001b[0;34m\"Masukkan Banyaknya Baris Matriks: \"\u001b[0m\u001b[0;34m)\u001b[0m\u001b[0;34m)\u001b[0m\u001b[0;34m\u001b[0m\u001b[0;34m\u001b[0m\u001b[0m\n",
            "\u001b[0;32m/usr/local/lib/python3.9/dist-packages/ipykernel/kernelbase.py\u001b[0m in \u001b[0;36mraw_input\u001b[0;34m(self, prompt)\u001b[0m\n\u001b[1;32m    858\u001b[0m                 \u001b[0;34m\"raw_input was called, but this frontend does not support input requests.\"\u001b[0m\u001b[0;34m\u001b[0m\u001b[0;34m\u001b[0m\u001b[0m\n\u001b[1;32m    859\u001b[0m             )\n\u001b[0;32m--> 860\u001b[0;31m         return self._input_request(str(prompt),\n\u001b[0m\u001b[1;32m    861\u001b[0m             \u001b[0mself\u001b[0m\u001b[0;34m.\u001b[0m\u001b[0m_parent_ident\u001b[0m\u001b[0;34m,\u001b[0m\u001b[0;34m\u001b[0m\u001b[0;34m\u001b[0m\u001b[0m\n\u001b[1;32m    862\u001b[0m             \u001b[0mself\u001b[0m\u001b[0;34m.\u001b[0m\u001b[0m_parent_header\u001b[0m\u001b[0;34m,\u001b[0m\u001b[0;34m\u001b[0m\u001b[0;34m\u001b[0m\u001b[0m\n",
            "\u001b[0;32m/usr/local/lib/python3.9/dist-packages/ipykernel/kernelbase.py\u001b[0m in \u001b[0;36m_input_request\u001b[0;34m(self, prompt, ident, parent, password)\u001b[0m\n\u001b[1;32m    902\u001b[0m             \u001b[0;32mexcept\u001b[0m \u001b[0mKeyboardInterrupt\u001b[0m\u001b[0;34m:\u001b[0m\u001b[0;34m\u001b[0m\u001b[0;34m\u001b[0m\u001b[0m\n\u001b[1;32m    903\u001b[0m                 \u001b[0;31m# re-raise KeyboardInterrupt, to truncate traceback\u001b[0m\u001b[0;34m\u001b[0m\u001b[0;34m\u001b[0m\u001b[0m\n\u001b[0;32m--> 904\u001b[0;31m                 \u001b[0;32mraise\u001b[0m \u001b[0mKeyboardInterrupt\u001b[0m\u001b[0;34m(\u001b[0m\u001b[0;34m\"Interrupted by user\"\u001b[0m\u001b[0;34m)\u001b[0m \u001b[0;32mfrom\u001b[0m \u001b[0;32mNone\u001b[0m\u001b[0;34m\u001b[0m\u001b[0;34m\u001b[0m\u001b[0m\n\u001b[0m\u001b[1;32m    905\u001b[0m             \u001b[0;32mexcept\u001b[0m \u001b[0mException\u001b[0m \u001b[0;32mas\u001b[0m \u001b[0me\u001b[0m\u001b[0;34m:\u001b[0m\u001b[0;34m\u001b[0m\u001b[0;34m\u001b[0m\u001b[0m\n\u001b[1;32m    906\u001b[0m                 \u001b[0mself\u001b[0m\u001b[0;34m.\u001b[0m\u001b[0mlog\u001b[0m\u001b[0;34m.\u001b[0m\u001b[0mwarning\u001b[0m\u001b[0;34m(\u001b[0m\u001b[0;34m\"Invalid Message:\"\u001b[0m\u001b[0;34m,\u001b[0m \u001b[0mexc_info\u001b[0m\u001b[0;34m=\u001b[0m\u001b[0;32mTrue\u001b[0m\u001b[0;34m)\u001b[0m\u001b[0;34m\u001b[0m\u001b[0;34m\u001b[0m\u001b[0m\n",
            "\u001b[0;31mKeyboardInterrupt\u001b[0m: Interrupted by user"
          ]
        }
      ],
      "source": [
        "# 3\n",
        "import numpy as np\n",
        "print(\"1. Buat random Matriks\")\n",
        "print(\"2. Ubah shape Matriks\")\n",
        "print(\"3. Ubah ukuran Matriks\")\n",
        "while True:   \n",
        "  pilih = int(input(\"pilih 1/2/3: \"))\n",
        "  if pilih == 1 :\n",
        "    B = int(input(\"Masukkan Banyaknya Baris Matriks: \"))\n",
        "    K = int(input(\"Masukkan Banyaknya Kolom Matriks: \"))\n",
        "    while True:\n",
        "      atas = float(input(\"Masukkan Batas Atas Matriks: \"))\n",
        "      bawah = float(input(\"Masukkan Batas Bawah Matriks: \"))\n",
        "      if atas <= bawah :\n",
        "        print(\"Batas atas harus lebih banyak dari batas bawah\")\n",
        "        continue\n",
        "      else:\n",
        "        break\n",
        "    ukuran = K*B\n",
        "    matx = np.random.uniform(low=bawah, high=atas, size=(B, K))\n",
        "    print(matx)\n",
        "\n",
        "  elif pilih == 2 :\n",
        "    B2 = int(input(\"Masukkan Banyaknya Baris untuk Reshape Matriks: \"))\n",
        "    K2 = int(input(\"Masukkan Banyaknya Kolom untuk Reshape Matriks: \"))\n",
        "    while True:\n",
        "      if B2*K2 != ukuran:\n",
        "        print(\"Tidak bisa di reshape karena beda ukuran\")\n",
        "        continue \n",
        "      else:\n",
        "        print(matx.reshape(B2, K2))\n",
        "        break\n",
        "\n",
        "  elif pilih == 3 :\n",
        "    B3 = int(input(\"Masukkan Banyaknya Baris Matriks: \"))\n",
        "    K3 = int(input(\"Masukkan Banyaknya Kolom Matriks: \"))\n",
        "    # new = np.array(matx)\n",
        "    new = np.resize(matx,(B3, K3))\n",
        "    print(new)\n",
        "\n",
        "  else : \n",
        "    break"
      ]
    }
  ],
  "metadata": {
    "colab": {
      "provenance": []
    },
    "kernelspec": {
      "display_name": "Python 3",
      "name": "python3"
    },
    "language_info": {
      "name": "python"
    }
  },
  "nbformat": 4,
  "nbformat_minor": 0
}
